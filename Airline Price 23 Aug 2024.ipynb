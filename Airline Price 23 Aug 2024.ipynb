{
 "cells": [
  {
   "cell_type": "code",
   "execution_count": 162,
   "id": "88bc4db2-8a30-4681-8f92-466295d9adba",
   "metadata": {},
   "outputs": [],
   "source": [
    "import pandas as pd\n",
    "import seaborn as sns\n",
    "import matplotlib.pyplot as plt\n",
    "from sklearn.preprocessing import LabelEncoder\n",
    "import numpy as np\n",
    "\n",
    "import warnings\n",
    "warnings.filterwarnings('ignore')"
   ]
  },
  {
   "cell_type": "code",
   "execution_count": 163,
   "id": "81324293-5338-4de6-97ea-c4a83c27e2d1",
   "metadata": {},
   "outputs": [],
   "source": [
    "df=pd.read_excel(r'C:\\Users\\Abcom\\Documents\\Data Science Project\\Airline Price\\Data.xlsx')"
   ]
  },
  {
   "cell_type": "code",
   "execution_count": 164,
   "id": "e7cac83b-dd6d-4cd1-91e6-fc3a23d0a39d",
   "metadata": {},
   "outputs": [
    {
     "data": {
      "text/html": [
       "<div>\n",
       "<style scoped>\n",
       "    .dataframe tbody tr th:only-of-type {\n",
       "        vertical-align: middle;\n",
       "    }\n",
       "\n",
       "    .dataframe tbody tr th {\n",
       "        vertical-align: top;\n",
       "    }\n",
       "\n",
       "    .dataframe thead th {\n",
       "        text-align: right;\n",
       "    }\n",
       "</style>\n",
       "<table border=\"1\" class=\"dataframe\">\n",
       "  <thead>\n",
       "    <tr style=\"text-align: right;\">\n",
       "      <th></th>\n",
       "      <th>Airline</th>\n",
       "      <th>Date_of_Journey</th>\n",
       "      <th>Source</th>\n",
       "      <th>Destination</th>\n",
       "      <th>Route</th>\n",
       "      <th>Dep_Time</th>\n",
       "      <th>Arrival_Time</th>\n",
       "      <th>Duration</th>\n",
       "      <th>Total_Stops</th>\n",
       "      <th>Additional_Info</th>\n",
       "      <th>Price</th>\n",
       "    </tr>\n",
       "  </thead>\n",
       "  <tbody>\n",
       "    <tr>\n",
       "      <th>0</th>\n",
       "      <td>IndiGo</td>\n",
       "      <td>24/03/2019</td>\n",
       "      <td>Banglore</td>\n",
       "      <td>New Delhi</td>\n",
       "      <td>BLR → DEL</td>\n",
       "      <td>22:20</td>\n",
       "      <td>01:10 22 Mar</td>\n",
       "      <td>2h 50m</td>\n",
       "      <td>non-stop</td>\n",
       "      <td>Null</td>\n",
       "      <td>3897</td>\n",
       "    </tr>\n",
       "    <tr>\n",
       "      <th>1</th>\n",
       "      <td>Air India</td>\n",
       "      <td>1/05/2019</td>\n",
       "      <td>Kolkata</td>\n",
       "      <td>Banglore</td>\n",
       "      <td>CCU → IXR → BBI → BLR</td>\n",
       "      <td>05:50</td>\n",
       "      <td>13:15</td>\n",
       "      <td>7h 25m</td>\n",
       "      <td>2 stops</td>\n",
       "      <td>Null</td>\n",
       "      <td>7662</td>\n",
       "    </tr>\n",
       "    <tr>\n",
       "      <th>2</th>\n",
       "      <td>Jet Airways</td>\n",
       "      <td>9/06/2019</td>\n",
       "      <td>Delhi</td>\n",
       "      <td>Cochin</td>\n",
       "      <td>DEL → LKO → BOM → COK</td>\n",
       "      <td>09:25</td>\n",
       "      <td>04:25 10 Jun</td>\n",
       "      <td>19h</td>\n",
       "      <td>2 stops</td>\n",
       "      <td>Null</td>\n",
       "      <td>13882</td>\n",
       "    </tr>\n",
       "    <tr>\n",
       "      <th>3</th>\n",
       "      <td>IndiGo</td>\n",
       "      <td>12/05/2019</td>\n",
       "      <td>Kolkata</td>\n",
       "      <td>Banglore</td>\n",
       "      <td>CCU → NAG → BLR</td>\n",
       "      <td>18:05</td>\n",
       "      <td>23:30</td>\n",
       "      <td>5h 25m</td>\n",
       "      <td>1 stop</td>\n",
       "      <td>Null</td>\n",
       "      <td>6218</td>\n",
       "    </tr>\n",
       "    <tr>\n",
       "      <th>4</th>\n",
       "      <td>IndiGo</td>\n",
       "      <td>01/03/2019</td>\n",
       "      <td>Banglore</td>\n",
       "      <td>New Delhi</td>\n",
       "      <td>BLR → NAG → DEL</td>\n",
       "      <td>16:50</td>\n",
       "      <td>21:35</td>\n",
       "      <td>4h 45m</td>\n",
       "      <td>1 stop</td>\n",
       "      <td>Null</td>\n",
       "      <td>13302</td>\n",
       "    </tr>\n",
       "  </tbody>\n",
       "</table>\n",
       "</div>"
      ],
      "text/plain": [
       "       Airline Date_of_Journey    Source Destination                  Route  \\\n",
       "0       IndiGo      24/03/2019  Banglore   New Delhi              BLR → DEL   \n",
       "1    Air India       1/05/2019   Kolkata    Banglore  CCU → IXR → BBI → BLR   \n",
       "2  Jet Airways       9/06/2019     Delhi      Cochin  DEL → LKO → BOM → COK   \n",
       "3       IndiGo      12/05/2019   Kolkata    Banglore        CCU → NAG → BLR   \n",
       "4       IndiGo      01/03/2019  Banglore   New Delhi        BLR → NAG → DEL   \n",
       "\n",
       "  Dep_Time  Arrival_Time Duration Total_Stops Additional_Info  Price  \n",
       "0    22:20  01:10 22 Mar   2h 50m    non-stop           Null    3897  \n",
       "1    05:50         13:15   7h 25m     2 stops            Null   7662  \n",
       "2    09:25  04:25 10 Jun      19h     2 stops            Null  13882  \n",
       "3    18:05         23:30   5h 25m      1 stop            Null   6218  \n",
       "4    16:50         21:35   4h 45m      1 stop            Null  13302  "
      ]
     },
     "execution_count": 164,
     "metadata": {},
     "output_type": "execute_result"
    }
   ],
   "source": [
    "df.head()"
   ]
  },
  {
   "cell_type": "code",
   "execution_count": 165,
   "id": "28642267-7548-4625-a599-8a4df8bf4ef5",
   "metadata": {},
   "outputs": [
    {
     "data": {
      "text/plain": [
       "Index(['Airline', 'Date_of_Journey', 'Source', 'Destination', 'Route',\n",
       "       'Dep_Time', 'Arrival_Time', 'Duration', 'Total_Stops',\n",
       "       'Additional_Info', 'Price'],\n",
       "      dtype='object')"
      ]
     },
     "execution_count": 165,
     "metadata": {},
     "output_type": "execute_result"
    }
   ],
   "source": [
    "# Checking for columns in the Dataframe\n",
    "df.columns"
   ]
  },
  {
   "cell_type": "code",
   "execution_count": 166,
   "id": "be4da09b-d87d-41e1-bc90-d67248bd9168",
   "metadata": {},
   "outputs": [
    {
     "data": {
      "text/plain": [
       "Airline            0\n",
       "Date_of_Journey    0\n",
       "Source             0\n",
       "Destination        0\n",
       "Route              1\n",
       "Dep_Time           0\n",
       "Arrival_Time       0\n",
       "Duration           0\n",
       "Total_Stops        1\n",
       "Additional_Info    0\n",
       "Price              0\n",
       "dtype: int64"
      ]
     },
     "execution_count": 166,
     "metadata": {},
     "output_type": "execute_result"
    }
   ],
   "source": [
    "# Checking for Null entries\n",
    "df.isnull().sum()"
   ]
  },
  {
   "cell_type": "code",
   "execution_count": 167,
   "id": "c350495e-8cfa-4b5f-94e6-15958898ed48",
   "metadata": {},
   "outputs": [],
   "source": [
    "#dropping the records with Null values\n",
    "df.dropna(inplace=True)"
   ]
  },
  {
   "cell_type": "code",
   "execution_count": 168,
   "id": "ceae1655-58ca-41e6-8e2c-818f2acde0c1",
   "metadata": {},
   "outputs": [
    {
     "data": {
      "text/plain": [
       "Airline            0\n",
       "Date_of_Journey    0\n",
       "Source             0\n",
       "Destination        0\n",
       "Route              0\n",
       "Dep_Time           0\n",
       "Arrival_Time       0\n",
       "Duration           0\n",
       "Total_Stops        0\n",
       "Additional_Info    0\n",
       "Price              0\n",
       "dtype: int64"
      ]
     },
     "execution_count": 168,
     "metadata": {},
     "output_type": "execute_result"
    }
   ],
   "source": [
    "df.isnull().sum()"
   ]
  },
  {
   "cell_type": "code",
   "execution_count": 169,
   "id": "76b490a1-1fea-4a29-9a83-4e7b4779a63e",
   "metadata": {},
   "outputs": [
    {
     "data": {
      "text/plain": [
       "220"
      ]
     },
     "execution_count": 169,
     "metadata": {},
     "output_type": "execute_result"
    }
   ],
   "source": [
    "# Checking for duplicate records\n",
    "df.duplicated().sum()"
   ]
  },
  {
   "cell_type": "code",
   "execution_count": 170,
   "id": "7bea5f31-13ad-43b8-80bd-6d46e1219a6e",
   "metadata": {},
   "outputs": [],
   "source": [
    "# There are 220 duplicate records"
   ]
  },
  {
   "cell_type": "code",
   "execution_count": 171,
   "id": "746f2583-ed54-40f5-9957-734da707ea5d",
   "metadata": {},
   "outputs": [
    {
     "data": {
      "text/plain": [
       "(10682, 11)"
      ]
     },
     "execution_count": 171,
     "metadata": {},
     "output_type": "execute_result"
    }
   ],
   "source": [
    "df.shape"
   ]
  },
  {
   "cell_type": "code",
   "execution_count": 172,
   "id": "26aaf786-ae7e-43f9-8fbe-0da9e1488b10",
   "metadata": {},
   "outputs": [],
   "source": [
    "# Dropping duplicated records"
   ]
  },
  {
   "cell_type": "code",
   "execution_count": 173,
   "id": "fc642288-834b-456b-9c1b-f088c558bde3",
   "metadata": {},
   "outputs": [],
   "source": [
    "df.drop_duplicates(keep='first',inplace = True,)"
   ]
  },
  {
   "cell_type": "code",
   "execution_count": 174,
   "id": "a70d5838-6eb5-43f4-8298-8166cb1f2a53",
   "metadata": {},
   "outputs": [
    {
     "data": {
      "text/plain": [
       "(10462, 11)"
      ]
     },
     "execution_count": 174,
     "metadata": {},
     "output_type": "execute_result"
    }
   ],
   "source": [
    "df.shape"
   ]
  },
  {
   "cell_type": "code",
   "execution_count": 175,
   "id": "694e43c7-0e48-4dd8-a3d8-9eec27ecf245",
   "metadata": {},
   "outputs": [
    {
     "data": {
      "text/plain": [
       "0"
      ]
     },
     "execution_count": 175,
     "metadata": {},
     "output_type": "execute_result"
    }
   ],
   "source": [
    "df.duplicated().sum()"
   ]
  },
  {
   "cell_type": "code",
   "execution_count": 176,
   "id": "892f1e90-25b6-411a-8a18-ab7d5c066d5a",
   "metadata": {},
   "outputs": [
    {
     "name": "stdout",
     "output_type": "stream",
     "text": [
      "<class 'pandas.core.frame.DataFrame'>\n",
      "Index: 10462 entries, 0 to 10682\n",
      "Data columns (total 11 columns):\n",
      " #   Column           Non-Null Count  Dtype \n",
      "---  ------           --------------  ----- \n",
      " 0   Airline          10462 non-null  object\n",
      " 1   Date_of_Journey  10462 non-null  object\n",
      " 2   Source           10462 non-null  object\n",
      " 3   Destination      10462 non-null  object\n",
      " 4   Route            10462 non-null  object\n",
      " 5   Dep_Time         10462 non-null  object\n",
      " 6   Arrival_Time     10462 non-null  object\n",
      " 7   Duration         10462 non-null  object\n",
      " 8   Total_Stops      10462 non-null  object\n",
      " 9   Additional_Info  10462 non-null  object\n",
      " 10  Price            10462 non-null  int64 \n",
      "dtypes: int64(1), object(10)\n",
      "memory usage: 980.8+ KB\n"
     ]
    }
   ],
   "source": [
    "df.info()"
   ]
  },
  {
   "cell_type": "code",
   "execution_count": 177,
   "id": "90db3457-ae37-4ccc-9ec0-2102525c60c8",
   "metadata": {},
   "outputs": [],
   "source": [
    "# There are 10 columns out of which only 1 is numerical"
   ]
  },
  {
   "cell_type": "code",
   "execution_count": 178,
   "id": "10fef6d7-f5aa-439d-95e7-c14de5ddc408",
   "metadata": {},
   "outputs": [],
   "source": [
    "# Checking unique values of Airlines"
   ]
  },
  {
   "cell_type": "code",
   "execution_count": 179,
   "id": "6e50da6f-8b10-4005-9273-593facf83f24",
   "metadata": {},
   "outputs": [
    {
     "data": {
      "text/plain": [
       "12"
      ]
     },
     "execution_count": 179,
     "metadata": {},
     "output_type": "execute_result"
    }
   ],
   "source": [
    "len(df['Airline'].unique())"
   ]
  },
  {
   "cell_type": "code",
   "execution_count": 180,
   "id": "c589c069-1a5b-49b3-88f6-8b3744556ab2",
   "metadata": {},
   "outputs": [],
   "source": [
    "# There are 12 unique Airlines in the dataset"
   ]
  },
  {
   "cell_type": "code",
   "execution_count": 181,
   "id": "1a906b29-9b0b-4a70-9401-239e5083e16a",
   "metadata": {},
   "outputs": [],
   "source": [
    "# plotting category plot to visualise Airlinewise Prices of Flight Tickets"
   ]
  },
  {
   "cell_type": "code",
   "execution_count": 182,
   "id": "4e506530-9246-4ef4-820f-0eb1bb284cf2",
   "metadata": {},
   "outputs": [
    {
     "data": {
      "image/png": "[encoded data removed]",
      "text/plain": [
       "<Figure size 2011.11x1000 with 1 Axes>"
      ]
     },
     "metadata": {},
     "output_type": "display_data"
    }
   ],
   "source": [
    "sns.catplot(x='Airline',y='Price',data=df.sort_values('Price',ascending=False),kind='boxen',height=10,aspect=2)\n",
    "plt.show()"
   ]
  },
  {
   "cell_type": "code",
   "execution_count": 183,
   "id": "3c88c5c5-bbe0-4b4d-a190-3e08d957aec6",
   "metadata": {},
   "outputs": [],
   "source": [
    "# It could be noted that Jet Airways Business has highest Price and Highest Outliers"
   ]
  },
  {
   "cell_type": "code",
   "execution_count": 184,
   "id": "e170f2ca-930c-4f45-856d-6b139bf68ff9",
   "metadata": {},
   "outputs": [],
   "source": [
    "#plotting the catplot for Destination vs price"
   ]
  },
  {
   "cell_type": "code",
   "execution_count": 185,
   "id": "ccc8f12d-de3b-4894-b71e-92dcf9629476",
   "metadata": {},
   "outputs": [
    {
     "data": {
      "image/png": "[encoded data removed]",
      "text/plain": [
       "<Figure size 1611.11x800 with 1 Axes>"
      ]
     },
     "metadata": {},
     "output_type": "display_data"
    }
   ],
   "source": [
    "sns.catplot(x='Destination',y='Price',data=df.sort_values('Price',ascending=False),kind='boxen',height=8,aspect=2)\n",
    "plt.show()"
   ]
  },
  {
   "cell_type": "code",
   "execution_count": 186,
   "id": "b9856488-23ea-4b34-832c-c258f930dc9b",
   "metadata": {},
   "outputs": [],
   "source": [
    "# it could be noted that New Delhi has prices on higher side and higher outliers"
   ]
  },
  {
   "cell_type": "markdown",
   "id": "968c992d-24ba-459b-ab56-fc50cd8f5717",
   "metadata": {},
   "source": [
    "# Feature Engineering:\n",
    "it is required to perform feature engineering to extract meaning from existing columns"
   ]
  },
  {
   "cell_type": "code",
   "execution_count": 188,
   "id": "4ad784bd-c97d-434e-a682-95526217b2a7",
   "metadata": {},
   "outputs": [],
   "source": [
    "# Splitting date into date and Month"
   ]
  },
  {
   "cell_type": "code",
   "execution_count": 189,
   "id": "9d84e8a1-c76f-4742-898c-a27f93706871",
   "metadata": {},
   "outputs": [],
   "source": [
    "df['Journey_Date']=df['Date_of_Journey'].str.split('/').str[0].astype(int)"
   ]
  },
  {
   "cell_type": "code",
   "execution_count": 190,
   "id": "c26b86ed-a773-43c0-b0ae-7fe50f3f6c0c",
   "metadata": {},
   "outputs": [],
   "source": [
    "df['Month']=df['Date_of_Journey'].str.split('/').str[1].astype(int)"
   ]
  },
  {
   "cell_type": "code",
   "execution_count": 191,
   "id": "6822cdcd-4284-4911-afe0-35a9ca5bb257",
   "metadata": {},
   "outputs": [],
   "source": [
    "# Dropping the original 'Date_of_Journey' column"
   ]
  },
  {
   "cell_type": "code",
   "execution_count": 192,
   "id": "36b10fd4-b410-4e71-bc1e-b1b30995f0c3",
   "metadata": {},
   "outputs": [],
   "source": [
    "df.drop(labels='Date_of_Journey',axis=1,inplace=True)"
   ]
  },
  {
   "cell_type": "code",
   "execution_count": 193,
   "id": "01e3e7e9-2f95-407a-a11b-45b9cb0c636c",
   "metadata": {
    "scrolled": true
   },
   "outputs": [
    {
     "data": {
      "text/plain": [
       "Month\n",
       "5    3395\n",
       "6    3311\n",
       "3    2678\n",
       "4    1078\n",
       "Name: count, dtype: int64"
      ]
     },
     "execution_count": 193,
     "metadata": {},
     "output_type": "execute_result"
    }
   ],
   "source": [
    "df['Month'].value_counts()"
   ]
  },
  {
   "cell_type": "code",
   "execution_count": 194,
   "id": "ec186a5c-635e-4e9f-8354-d8f0c2fc2528",
   "metadata": {},
   "outputs": [
    {
     "data": {
      "text/plain": [
       "array([3, 5, 6, 4])"
      ]
     },
     "execution_count": 194,
     "metadata": {},
     "output_type": "execute_result"
    }
   ],
   "source": [
    "df['Month'].unique()"
   ]
  },
  {
   "cell_type": "code",
   "execution_count": 195,
   "id": "77c92d29-11a8-4eca-a9d0-48a86ce956c7",
   "metadata": {},
   "outputs": [
    {
     "data": {
      "image/png": "[encoded data removed]",
      "text/plain": [
       "<Figure size 1611.11x800 with 1 Axes>"
      ]
     },
     "metadata": {},
     "output_type": "display_data"
    }
   ],
   "source": [
    "# Plotting the prices monthwise\n",
    "sns.catplot(x='Month',y='Price',data=df.sort_values('Price',ascending=False),kind='boxen',height=8,aspect=2)\n",
    "plt.show()"
   ]
  },
  {
   "cell_type": "code",
   "execution_count": 196,
   "id": "f2b6eadc-d217-4f7e-9684-b9d0557ac95a",
   "metadata": {},
   "outputs": [],
   "source": [
    "# It could be noted that March has prices on higher side with Higher outliers"
   ]
  },
  {
   "cell_type": "code",
   "execution_count": 197,
   "id": "4f42ee29-18fc-4cc4-b91b-4744e438d58e",
   "metadata": {},
   "outputs": [],
   "source": [
    "# Converting the Duration into minutes:\n",
    "df['Duration_min']=df['Duration'].str.replace('h','*60').str.replace(' ','+').str.replace('m','*1').apply(eval)"
   ]
  },
  {
   "cell_type": "code",
   "execution_count": 198,
   "id": "d364e828-750a-4b69-88c9-61e9dba0c3cc",
   "metadata": {},
   "outputs": [
    {
     "data": {
      "text/plain": [
       "0         170\n",
       "1         445\n",
       "2        1140\n",
       "3         325\n",
       "4         285\n",
       "         ... \n",
       "10678     150\n",
       "10679     155\n",
       "10680     180\n",
       "10681     160\n",
       "10682     500\n",
       "Name: Duration_min, Length: 10462, dtype: int64"
      ]
     },
     "execution_count": 198,
     "metadata": {},
     "output_type": "execute_result"
    }
   ],
   "source": [
    "df['Duration_min']"
   ]
  },
  {
   "cell_type": "code",
   "execution_count": 199,
   "id": "e009f9c2-93ae-480b-b71f-96e2ba3beb8f",
   "metadata": {},
   "outputs": [],
   "source": [
    "#droppring the original Duration column\n",
    "df.drop(labels='Duration',axis=1,inplace=True)"
   ]
  },
  {
   "cell_type": "code",
   "execution_count": 237,
   "id": "ee4a9492-f2ac-423b-aa80-270a7e6a3c9d",
   "metadata": {},
   "outputs": [
    {
     "data": {
      "text/plain": [
       "Index(['Airline', 'Source', 'Destination', 'Route', 'Dep_Time', 'Arrival_Time',\n",
       "       'Total_Stops', 'Additional_Info', 'Price', 'Journey_Date', 'Month',\n",
       "       'Duration_min'],\n",
       "      dtype='object')"
      ]
     },
     "execution_count": 237,
     "metadata": {},
     "output_type": "execute_result"
    }
   ],
   "source": [
    "df.columns"
   ]
  },
  {
   "cell_type": "code",
   "execution_count": 239,
   "id": "29969bad-44ba-48a4-90dc-14d674038deb",
   "metadata": {},
   "outputs": [],
   "source": [
    "# Similary converting the Arrival and departure time into Hours and minutes"
   ]
  },
  {
   "cell_type": "code",
   "execution_count": 253,
   "id": "06d69868-9a38-4548-aa46-46c79ac6dfb0",
   "metadata": {},
   "outputs": [],
   "source": [
    "df['Arr_hr']=pd.to_datetime(df.Arrival_Time).dt.hour\n",
    "df['Arr_min']=pd.to_datetime(df.Arrival_Time).dt.minute"
   ]
  },
  {
   "cell_type": "code",
   "execution_count": 257,
   "id": "c931ce1e-cb23-4b1b-abb3-196ca358c5cc",
   "metadata": {},
   "outputs": [],
   "source": [
    "# Dropping the original Arrival_Time column"
   ]
  },
  {
   "cell_type": "code",
   "execution_count": 261,
   "id": "f1324f28-ff19-4472-975e-eaad92252e03",
   "metadata": {},
   "outputs": [],
   "source": [
    "df.drop(labels='Arrival_Time',axis=1,inplace=True)"
   ]
  },
  {
   "cell_type": "code",
   "execution_count": 263,
   "id": "216249e2-e654-4df2-ab62-1e66642d9a6a",
   "metadata": {},
   "outputs": [
    {
     "data": {
      "text/plain": [
       "Index(['Airline', 'Source', 'Destination', 'Route', 'Dep_Time', 'Total_Stops',\n",
       "       'Additional_Info', 'Price', 'Journey_Date', 'Month', 'Duration_min',\n",
       "       'Arr_hr', 'Arr_min'],\n",
       "      dtype='object')"
      ]
     },
     "execution_count": 263,
     "metadata": {},
     "output_type": "execute_result"
    }
   ],
   "source": [
    "df.columns"
   ]
  },
  {
   "cell_type": "code",
   "execution_count": 265,
   "id": "a3904b19-62d1-4947-873e-c06993dc7cb1",
   "metadata": {},
   "outputs": [],
   "source": [
    "df['Dep_hr']=pd.to_datetime(df.Dep_Time).dt.hour\n",
    "df['Dep_min']=pd.to_datetime(df.Dep_Time).dt.minute"
   ]
  },
  {
   "cell_type": "code",
   "execution_count": 267,
   "id": "2f11d4da-1c34-4b0d-9d16-493849ef100d",
   "metadata": {},
   "outputs": [
    {
     "data": {
      "text/plain": [
       "Index(['Airline', 'Source', 'Destination', 'Route', 'Dep_Time', 'Total_Stops',\n",
       "       'Additional_Info', 'Price', 'Journey_Date', 'Month', 'Duration_min',\n",
       "       'Arr_hr', 'Arr_min', 'Dep_hr', 'Dep_min'],\n",
       "      dtype='object')"
      ]
     },
     "execution_count": 267,
     "metadata": {},
     "output_type": "execute_result"
    }
   ],
   "source": [
    "df.columns"
   ]
  },
  {
   "cell_type": "code",
   "execution_count": 269,
   "id": "cc4a4bd9-6c8a-4d34-9b72-0194f49379d1",
   "metadata": {},
   "outputs": [],
   "source": [
    "# Dropping the original Dep_Time column"
   ]
  },
  {
   "cell_type": "code",
   "execution_count": 271,
   "id": "e6e7a693-7ff2-41a3-a3a3-9b9e1bac6760",
   "metadata": {},
   "outputs": [],
   "source": [
    "df.drop(labels='Dep_Time',axis=1,inplace=True)"
   ]
  },
  {
   "cell_type": "code",
   "execution_count": 273,
   "id": "34ea080e-d644-420e-8b84-f3b8dba654cb",
   "metadata": {},
   "outputs": [
    {
     "data": {
      "text/plain": [
       "Index(['Airline', 'Source', 'Destination', 'Route', 'Total_Stops',\n",
       "       'Additional_Info', 'Price', 'Journey_Date', 'Month', 'Duration_min',\n",
       "       'Arr_hr', 'Arr_min', 'Dep_hr', 'Dep_min'],\n",
       "      dtype='object')"
      ]
     },
     "execution_count": 273,
     "metadata": {},
     "output_type": "execute_result"
    }
   ],
   "source": [
    "df.columns"
   ]
  },
  {
   "cell_type": "code",
   "execution_count": 275,
   "id": "74da0310-16c0-4f4a-9e65-ac4efcad5941",
   "metadata": {},
   "outputs": [],
   "source": [
    "# extracting list of numerical columns\n",
    "df_numerical=df.select_dtypes(include=['int32','float','int64'])"
   ]
  },
  {
   "cell_type": "code",
   "execution_count": 277,
   "id": "f9ae16df-4d77-4f7a-9e36-c05f27a163f1",
   "metadata": {},
   "outputs": [
    {
     "data": {
      "text/html": [
       "<div>\n",
       "<style scoped>\n",
       "    .dataframe tbody tr th:only-of-type {\n",
       "        vertical-align: middle;\n",
       "    }\n",
       "\n",
       "    .dataframe tbody tr th {\n",
       "        vertical-align: top;\n",
       "    }\n",
       "\n",
       "    .dataframe thead th {\n",
       "        text-align: right;\n",
       "    }\n",
       "</style>\n",
       "<table border=\"1\" class=\"dataframe\">\n",
       "  <thead>\n",
       "    <tr style=\"text-align: right;\">\n",
       "      <th></th>\n",
       "      <th>Price</th>\n",
       "      <th>Journey_Date</th>\n",
       "      <th>Month</th>\n",
       "      <th>Duration_min</th>\n",
       "      <th>Arr_hr</th>\n",
       "      <th>Arr_min</th>\n",
       "      <th>Dep_hr</th>\n",
       "      <th>Dep_min</th>\n",
       "    </tr>\n",
       "  </thead>\n",
       "  <tbody>\n",
       "    <tr>\n",
       "      <th>0</th>\n",
       "      <td>3897</td>\n",
       "      <td>24</td>\n",
       "      <td>3</td>\n",
       "      <td>170</td>\n",
       "      <td>1</td>\n",
       "      <td>10</td>\n",
       "      <td>22</td>\n",
       "      <td>20</td>\n",
       "    </tr>\n",
       "    <tr>\n",
       "      <th>1</th>\n",
       "      <td>7662</td>\n",
       "      <td>1</td>\n",
       "      <td>5</td>\n",
       "      <td>445</td>\n",
       "      <td>13</td>\n",
       "      <td>15</td>\n",
       "      <td>5</td>\n",
       "      <td>50</td>\n",
       "    </tr>\n",
       "    <tr>\n",
       "      <th>2</th>\n",
       "      <td>13882</td>\n",
       "      <td>9</td>\n",
       "      <td>6</td>\n",
       "      <td>1140</td>\n",
       "      <td>4</td>\n",
       "      <td>25</td>\n",
       "      <td>9</td>\n",
       "      <td>25</td>\n",
       "    </tr>\n",
       "    <tr>\n",
       "      <th>3</th>\n",
       "      <td>6218</td>\n",
       "      <td>12</td>\n",
       "      <td>5</td>\n",
       "      <td>325</td>\n",
       "      <td>23</td>\n",
       "      <td>30</td>\n",
       "      <td>18</td>\n",
       "      <td>5</td>\n",
       "    </tr>\n",
       "    <tr>\n",
       "      <th>4</th>\n",
       "      <td>13302</td>\n",
       "      <td>1</td>\n",
       "      <td>3</td>\n",
       "      <td>285</td>\n",
       "      <td>21</td>\n",
       "      <td>35</td>\n",
       "      <td>16</td>\n",
       "      <td>50</td>\n",
       "    </tr>\n",
       "    <tr>\n",
       "      <th>...</th>\n",
       "      <td>...</td>\n",
       "      <td>...</td>\n",
       "      <td>...</td>\n",
       "      <td>...</td>\n",
       "      <td>...</td>\n",
       "      <td>...</td>\n",
       "      <td>...</td>\n",
       "      <td>...</td>\n",
       "    </tr>\n",
       "    <tr>\n",
       "      <th>10678</th>\n",
       "      <td>4107</td>\n",
       "      <td>9</td>\n",
       "      <td>4</td>\n",
       "      <td>150</td>\n",
       "      <td>22</td>\n",
       "      <td>25</td>\n",
       "      <td>19</td>\n",
       "      <td>55</td>\n",
       "    </tr>\n",
       "    <tr>\n",
       "      <th>10679</th>\n",
       "      <td>4145</td>\n",
       "      <td>27</td>\n",
       "      <td>4</td>\n",
       "      <td>155</td>\n",
       "      <td>23</td>\n",
       "      <td>20</td>\n",
       "      <td>20</td>\n",
       "      <td>45</td>\n",
       "    </tr>\n",
       "    <tr>\n",
       "      <th>10680</th>\n",
       "      <td>7229</td>\n",
       "      <td>27</td>\n",
       "      <td>4</td>\n",
       "      <td>180</td>\n",
       "      <td>11</td>\n",
       "      <td>20</td>\n",
       "      <td>8</td>\n",
       "      <td>20</td>\n",
       "    </tr>\n",
       "    <tr>\n",
       "      <th>10681</th>\n",
       "      <td>12648</td>\n",
       "      <td>1</td>\n",
       "      <td>3</td>\n",
       "      <td>160</td>\n",
       "      <td>14</td>\n",
       "      <td>10</td>\n",
       "      <td>11</td>\n",
       "      <td>30</td>\n",
       "    </tr>\n",
       "    <tr>\n",
       "      <th>10682</th>\n",
       "      <td>11753</td>\n",
       "      <td>9</td>\n",
       "      <td>5</td>\n",
       "      <td>500</td>\n",
       "      <td>19</td>\n",
       "      <td>15</td>\n",
       "      <td>10</td>\n",
       "      <td>55</td>\n",
       "    </tr>\n",
       "  </tbody>\n",
       "</table>\n",
       "<p>10462 rows × 8 columns</p>\n",
       "</div>"
      ],
      "text/plain": [
       "       Price  Journey_Date  Month  Duration_min  Arr_hr  Arr_min  Dep_hr  \\\n",
       "0       3897            24      3           170       1       10      22   \n",
       "1       7662             1      5           445      13       15       5   \n",
       "2      13882             9      6          1140       4       25       9   \n",
       "3       6218            12      5           325      23       30      18   \n",
       "4      13302             1      3           285      21       35      16   \n",
       "...      ...           ...    ...           ...     ...      ...     ...   \n",
       "10678   4107             9      4           150      22       25      19   \n",
       "10679   4145            27      4           155      23       20      20   \n",
       "10680   7229            27      4           180      11       20       8   \n",
       "10681  12648             1      3           160      14       10      11   \n",
       "10682  11753             9      5           500      19       15      10   \n",
       "\n",
       "       Dep_min  \n",
       "0           20  \n",
       "1           50  \n",
       "2           25  \n",
       "3            5  \n",
       "4           50  \n",
       "...        ...  \n",
       "10678       55  \n",
       "10679       45  \n",
       "10680       20  \n",
       "10681       30  \n",
       "10682       55  \n",
       "\n",
       "[10462 rows x 8 columns]"
      ]
     },
     "execution_count": 277,
     "metadata": {},
     "output_type": "execute_result"
    }
   ],
   "source": [
    "df_numerical"
   ]
  },
  {
   "cell_type": "code",
   "execution_count": 279,
   "id": "2c843f51-36ba-4006-8a5d-b4ea1e79f237",
   "metadata": {},
   "outputs": [],
   "source": [
    "# It could be noted that Month is actually a Categorical Column with Months as Category"
   ]
  },
  {
   "cell_type": "code",
   "execution_count": 285,
   "id": "e8f80aa7-2061-47cd-9b95-6e51c6419f33",
   "metadata": {},
   "outputs": [],
   "source": [
    "df['Month'].replace({3:'March',4:'April',5:'May',6:'June'},inplace=True)"
   ]
  },
  {
   "cell_type": "code",
   "execution_count": 297,
   "id": "e0ce4433-2616-4f25-b26c-3cbe9b444a7e",
   "metadata": {},
   "outputs": [
    {
     "data": {
      "text/plain": [
       "Month\n",
       "May      3395\n",
       "June     3311\n",
       "March    2678\n",
       "April    1078\n",
       "Name: count, dtype: int64"
      ]
     },
     "execution_count": 297,
     "metadata": {},
     "output_type": "execute_result"
    }
   ],
   "source": [
    "df['Month'].value_counts()"
   ]
  },
  {
   "cell_type": "code",
   "execution_count": null,
   "id": "e7be308a-6300-418f-8aed-2302c2fd74db",
   "metadata": {},
   "outputs": [],
   "source": []
  }
 ],
 "metadata": {
  "kernelspec": {
   "display_name": "Python 3 (ipykernel)",
   "language": "python",
   "name": "python3"
  },
  "language_info": {
   "codemirror_mode": {
    "name": "ipython",
    "version": 3
   },
   "file_extension": ".py",
   "mimetype": "text/x-python",
   "name": "python",
   "nbconvert_exporter": "python",
   "pygments_lexer": "ipython3",
   "version": "3.12.4"
  }
 },
 "nbformat": 4,
 "nbformat_minor": 5
}
